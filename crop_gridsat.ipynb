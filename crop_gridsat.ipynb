{
 "cells": [
  {
   "cell_type": "code",
   "execution_count": 1,
   "id": "0e2bf9dd",
   "metadata": {},
   "outputs": [],
   "source": [
    "import glob\n",
    "import xarray as xr\n",
    "import numpy as np\n",
    "import pandas as pd\n",
    "import matplotlib.pyplot as plt\n",
    "from tqdm import tqdm\n",
    "from datetime import datetime\n",
    "\n",
    "# Paths\n",
    "SAVE_PATH = 'data/gridsat_cropped/'\n",
    "\n",
    "# Constants\n",
    "distance_km = 725  # Half the side of the box\n",
    "resolution_km = 7.8  # Resolution of the data (rounded to 7.8 so that I get exactyl 128 pixels)\n",
    "radius = int(np.round(distance_km / resolution_km))  # Number of grid points\n",
    "\n",
    "ibtracs_format = \"%d/%m/%Y %H:%M\"\n",
    "gridsat_format = \"%Y.%m.%d.%H\"\n",
    "\n",
    "df = pd.read_csv('data/ibtracs/ibtracs_gridsat_train.csv')[:1000]"
   ]
  },
  {
   "cell_type": "code",
   "execution_count": 2,
   "id": "e7fbfdce",
   "metadata": {},
   "outputs": [],
   "source": [
    "def nan_percent(data):\n",
    "    return 100 - 100*np.count_nonzero(~np.isnan(subset.irwin_cdr))/np.prod(subset.irwin_cdr.shape)"
   ]
  },
  {
   "cell_type": "code",
   "execution_count": 3,
   "id": "c0bbb150",
   "metadata": {},
   "outputs": [
    {
     "name": "stderr",
     "output_type": "stream",
     "text": [
      "  7%|▋         | 66/1000 [00:21<05:01,  3.10it/s]\n"
     ]
    },
    {
     "ename": "AssertionError",
     "evalue": "WRONG SHAPE: (1, 186, 4959)",
     "output_type": "error",
     "traceback": [
      "\u001b[1;31m---------------------------------------------------------------------------\u001b[0m",
      "\u001b[1;31mAssertionError\u001b[0m                            Traceback (most recent call last)",
      "Cell \u001b[1;32mIn[3], line 38\u001b[0m\n\u001b[0;32m     35\u001b[0m     cropped_subset \u001b[38;5;241m=\u001b[39m xr\u001b[38;5;241m.\u001b[39mconcat([cropped_subset_part1, cropped_subset_part2], dim\u001b[38;5;241m=\u001b[39m\u001b[38;5;124m'\u001b[39m\u001b[38;5;124mlon\u001b[39m\u001b[38;5;124m'\u001b[39m)\n\u001b[0;32m     37\u001b[0m \u001b[38;5;66;03m# Check that the cropped image has the right dimension\u001b[39;00m\n\u001b[1;32m---> 38\u001b[0m \u001b[38;5;28;01massert\u001b[39;00m cropped_subset\u001b[38;5;241m.\u001b[39mto_array()\u001b[38;5;241m.\u001b[39mshape \u001b[38;5;241m==\u001b[39m (\u001b[38;5;241m3\u001b[39m, \u001b[38;5;241m1\u001b[39m, \u001b[38;5;241m186\u001b[39m, \u001b[38;5;241m186\u001b[39m), \u001b[38;5;124mf\u001b[39m\u001b[38;5;124m'\u001b[39m\u001b[38;5;124mWRONG SHAPE: \u001b[39m\u001b[38;5;132;01m{\u001b[39;00mcropped_subset\u001b[38;5;241m.\u001b[39mirwin_cdr\u001b[38;5;241m.\u001b[39mshape\u001b[38;5;132;01m}\u001b[39;00m\u001b[38;5;124m'\u001b[39m\n\u001b[0;32m     40\u001b[0m \u001b[38;5;66;03m# Check that no field of the cropped image has more than 10% missing data\u001b[39;00m\n\u001b[0;32m     41\u001b[0m \u001b[38;5;28;01mfor\u001b[39;00m variable \u001b[38;5;129;01min\u001b[39;00m cropped_subset\u001b[38;5;241m.\u001b[39mvariables:\n",
      "\u001b[1;31mAssertionError\u001b[0m: WRONG SHAPE: (1, 186, 4959)"
     ]
    }
   ],
   "source": [
    "ids_to_delete = []\n",
    "\n",
    "for idx, row in tqdm(df.iterrows(), total=len(df)):\n",
    "    gridsat_date = datetime.strptime(row.ISO_TIME, ibtracs_format).strftime(gridsat_format)\n",
    "    with xr.open_dataset('data/gridsat.nc') as ds:\n",
    "        subset = ds[['irwin_cdr', 'irwvp', 'vschn']].sel(lat=slice(None), lon=slice(None))\n",
    "\n",
    "    gridsat_lats = subset.lat.values\n",
    "    gridsat_lons = subset.lon.values\n",
    "\n",
    "    # Adjust longitude values for circular continuity\n",
    "    gridsat_lons_adjusted = np.where(gridsat_lons < 0, gridsat_lons + 360, gridsat_lons)\n",
    "\n",
    "    # Center point\n",
    "    lat_c = row.LAT\n",
    "    lon_c = row.LON if row.LON >= 0 else row.LON + 360\n",
    "\n",
    "    lat_index = np.argmin(np.abs(gridsat_lats - lat_c))\n",
    "    lon_index = np.argmin(np.abs(gridsat_lons_adjusted - lon_c))\n",
    "\n",
    "    first_lat = gridsat_lats[lat_index - radius]\n",
    "    last_lat = gridsat_lats[lat_index + radius - 1]\n",
    "\n",
    "    lon_indices = (lon_index - radius, lon_index + radius - 1)\n",
    "    lon_indices = np.mod(lon_indices, len(gridsat_lons))  # Wrap-around using modulo\n",
    "    lon_indices = sorted(lon_indices)\n",
    "\n",
    "    if lon_indices[0] <= lon_indices[1]:\n",
    "        # Normal case\n",
    "        cropped_subset = subset.sel(lat=slice(first_lat, last_lat), lon=slice(gridsat_lons[lon_indices[0]], gridsat_lons[lon_indices[1]]))\n",
    "    else:\n",
    "        # Wrap-around case\n",
    "        cropped_subset_part1 = subset.sel(lat=slice(first_lat, last_lat), lon=slice(gridsat_lons[lon_indices[0]], None))\n",
    "        cropped_subset_part2 = subset.sel(lat=slice(first_lat, last_lat), lon=slice(None, gridsat_lons[lon_indices[1]]))\n",
    "        cropped_subset = xr.concat([cropped_subset_part1, cropped_subset_part2], dim='lon')\n",
    "\n",
    "    # Check that the cropped image has the right dimension\n",
    "    assert cropped_subset.to_array().shape == (3, 1, 186, 186), f'WRONG SHAPE: {cropped_subset.irwin_cdr.shape}'\n",
    "\n",
    "    # Check that no field of the cropped image has more than 10% missing data\n",
    "    for variable in cropped_subset.variables:\n",
    "        if nan_percent(variable) > 15:\n",
    "            ids_to_delete.append(idx)\n",
    "            break\n",
    "\n",
    "    # Fill in any potential missing data using zeros\n",
    "    cropped_subset = cropped_subset.fillna(0)\n",
    "    \n",
    "    # Save cropped image as .nc\n",
    "    #cropped_subset.to_netcdf(SAVE_PATH + f'GRIDSAT-{row.IDX_TRUE}.nc')"
   ]
  },
  {
   "cell_type": "code",
   "execution_count": null,
   "id": "e497bcff",
   "metadata": {},
   "outputs": [],
   "source": []
  }
 ],
 "metadata": {
  "kernelspec": {
   "display_name": "Python 3 (ipykernel)",
   "language": "python",
   "name": "python3"
  },
  "language_info": {
   "codemirror_mode": {
    "name": "ipython",
    "version": 3
   },
   "file_extension": ".py",
   "mimetype": "text/x-python",
   "name": "python",
   "nbconvert_exporter": "python",
   "pygments_lexer": "ipython3",
   "version": "3.10.13"
  }
 },
 "nbformat": 4,
 "nbformat_minor": 5
}
